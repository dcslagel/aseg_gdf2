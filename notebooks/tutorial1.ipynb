{
 "cells": [
  {
   "cell_type": "markdown",
   "metadata": {},
   "source": [
    "# Quick start"
   ]
  },
  {
   "cell_type": "code",
   "execution_count": 2,
   "metadata": {},
   "outputs": [],
   "source": [
    " import aseg_gdf2"
   ]
  },
  {
   "cell_type": "code",
   "execution_count": 6,
   "metadata": {},
   "outputs": [
    {
     "data": {
      "text/plain": [
       "<aseg_gdf2.gdf2.GDF2 at 0x19280da1da0>"
      ]
     },
     "execution_count": 6,
     "metadata": {},
     "output_type": "execute_result"
    }
   ],
   "source": [
    "gdf = aseg_gdf2.read(r\"c:/users/kinve/code/aseg_gdf2/tests/example_datasets/3bcfc711/GA1286_Waveforms\")\n",
    "gdf"
   ]
  },
  {
   "cell_type": "code",
   "execution_count": 7,
   "metadata": {},
   "outputs": [
    {
     "data": {
      "text/plain": [
       "['FLTNUM', 'Rx_Voltage', 'Flight', 'Time', 'Tx_Current']"
      ]
     },
     "execution_count": 7,
     "metadata": {},
     "output_type": "execute_result"
    }
   ],
   "source": [
    "gdf.field_names()"
   ]
  },
  {
   "cell_type": "code",
   "execution_count": 11,
   "metadata": {
    "scrolled": false
   },
   "outputs": [
    {
     "name": "stdout",
     "output_type": "stream",
     "text": [
      "OrderedDict([('Index', 0), ('FLTNUM', 1.0), ('Rx_Voltage', -0.0), ('Flight', 1), ('Time', 0.0052), ('Tx_Current', 0.00176)])\n",
      "OrderedDict([('Index', 1), ('FLTNUM', 1.0), ('Rx_Voltage', -0.0), ('Flight', 1), ('Time', 0.0104), ('Tx_Current', 0.00176)])\n",
      "OrderedDict([('Index', 2), ('FLTNUM', 1.0), ('Rx_Voltage', -0.0), ('Flight', 1), ('Time', 0.0156), ('Tx_Current', 0.00176)])\n",
      "OrderedDict([('Index', 3), ('FLTNUM', 1.0), ('Rx_Voltage', -0.0), ('Flight', 1), ('Time', 0.0208), ('Tx_Current', 0.00176)])\n",
      "OrderedDict([('Index', 4), ('FLTNUM', 1.0), ('Rx_Voltage', -0.0), ('Flight', 1), ('Time', 0.026), ('Tx_Current', 0.00176)])\n",
      "OrderedDict([('Index', 5), ('FLTNUM', 1.0), ('Rx_Voltage', -0.0), ('Flight', 1), ('Time', 0.0312), ('Tx_Current', 0.00176)])\n"
     ]
    }
   ],
   "source": [
    "i = 0\n",
    "for row in gdf.iterrows():\n",
    "    print(row)\n",
    "    i += 1\n",
    "    if i > 5:\n",
    "        break"
   ]
  },
  {
   "cell_type": "markdown",
   "metadata": {},
   "source": [
    "For .dat files that will fit in memory, you can read them into a pandas.DataFrame:"
   ]
  },
  {
   "cell_type": "code",
   "execution_count": 13,
   "metadata": {},
   "outputs": [
    {
     "data": {
      "text/html": [
       "<div>\n",
       "<style scoped>\n",
       "    .dataframe tbody tr th:only-of-type {\n",
       "        vertical-align: middle;\n",
       "    }\n",
       "\n",
       "    .dataframe tbody tr th {\n",
       "        vertical-align: top;\n",
       "    }\n",
       "\n",
       "    .dataframe thead th {\n",
       "        text-align: right;\n",
       "    }\n",
       "</style>\n",
       "<table border=\"1\" class=\"dataframe\">\n",
       "  <thead>\n",
       "    <tr style=\"text-align: right;\">\n",
       "      <th></th>\n",
       "      <th>FLTNUM</th>\n",
       "      <th>Rx_Voltage</th>\n",
       "      <th>Flight</th>\n",
       "      <th>Time</th>\n",
       "      <th>Tx_Current</th>\n",
       "    </tr>\n",
       "  </thead>\n",
       "  <tbody>\n",
       "    <tr>\n",
       "      <th>0</th>\n",
       "      <td>1.0</td>\n",
       "      <td>-0.0</td>\n",
       "      <td>1</td>\n",
       "      <td>0.0052</td>\n",
       "      <td>0.00176</td>\n",
       "    </tr>\n",
       "    <tr>\n",
       "      <th>1</th>\n",
       "      <td>1.0</td>\n",
       "      <td>-0.0</td>\n",
       "      <td>1</td>\n",
       "      <td>0.0104</td>\n",
       "      <td>0.00176</td>\n",
       "    </tr>\n",
       "    <tr>\n",
       "      <th>2</th>\n",
       "      <td>1.0</td>\n",
       "      <td>-0.0</td>\n",
       "      <td>1</td>\n",
       "      <td>0.0156</td>\n",
       "      <td>0.00176</td>\n",
       "    </tr>\n",
       "    <tr>\n",
       "      <th>3</th>\n",
       "      <td>1.0</td>\n",
       "      <td>-0.0</td>\n",
       "      <td>1</td>\n",
       "      <td>0.0208</td>\n",
       "      <td>0.00176</td>\n",
       "    </tr>\n",
       "    <tr>\n",
       "      <th>4</th>\n",
       "      <td>1.0</td>\n",
       "      <td>-0.0</td>\n",
       "      <td>1</td>\n",
       "      <td>0.0260</td>\n",
       "      <td>0.00176</td>\n",
       "    </tr>\n",
       "  </tbody>\n",
       "</table>\n",
       "</div>"
      ],
      "text/plain": [
       "   FLTNUM  Rx_Voltage  Flight    Time  Tx_Current\n",
       "0     1.0        -0.0       1  0.0052     0.00176\n",
       "1     1.0        -0.0       1  0.0104     0.00176\n",
       "2     1.0        -0.0       1  0.0156     0.00176\n",
       "3     1.0        -0.0       1  0.0208     0.00176\n",
       "4     1.0        -0.0       1  0.0260     0.00176"
      ]
     },
     "execution_count": 13,
     "metadata": {},
     "output_type": "execute_result"
    }
   ],
   "source": [
    "df = gdf.df()\n",
    "df.head()"
   ]
  },
  {
   "cell_type": "code",
   "execution_count": 15,
   "metadata": {},
   "outputs": [
    {
     "data": {
      "text/plain": [
       "(23040, 5)"
      ]
     },
     "execution_count": 15,
     "metadata": {},
     "output_type": "execute_result"
    }
   ],
   "source": [
    "df.shape"
   ]
  },
  {
   "cell_type": "markdown",
   "metadata": {},
   "source": [
    "For .dat files that are too big for memory, you can use the ``chunksize=`` keyword argument to specify the number of rows. Normally you could get away with a few hundred thousand, but for the example we'll use something less:"
   ]
  },
  {
   "cell_type": "code",
   "execution_count": 17,
   "metadata": {},
   "outputs": [
    {
     "name": "stdout",
     "output_type": "stream",
     "text": [
      "(<class 'pandas.core.frame.DataFrame'>, (10000, 5))\n",
      "(<class 'pandas.core.frame.DataFrame'>, (10000, 5))\n",
      "(<class 'pandas.core.frame.DataFrame'>, (3040, 5))\n"
     ]
    }
   ],
   "source": [
    "for dfchunk in gdf.df_chunked(chunksize=10000):\n",
    "    print((type(dfchunk), dfchunk.shape))"
   ]
  },
  {
   "cell_type": "markdown",
   "metadata": {},
   "source": [
    "The metadata from the .dfn file is there too:"
   ]
  },
  {
   "cell_type": "code",
   "execution_count": 18,
   "metadata": {},
   "outputs": [
    {
     "data": {
      "text/plain": [
       "{'': {'fields': [{'name': 'FLTNUM',\n",
       "    'format': 'F10.1',\n",
       "    'unit': '',\n",
       "    'null': None,\n",
       "    'long_name': 'FlightNumber',\n",
       "    'comment': '',\n",
       "    'cols': 1,\n",
       "    'width': 10},\n",
       "   {'name': 'Rx_Voltage',\n",
       "    'format': 'F10.5',\n",
       "    'unit': 'Volt',\n",
       "    'null': '-99.99999',\n",
       "    'long_name': 'Rx_Voltage',\n",
       "    'comment': '',\n",
       "    'cols': 1,\n",
       "    'width': 10},\n",
       "   {'name': 'Flight',\n",
       "    'format': 'I6',\n",
       "    'unit': '',\n",
       "    'null': '-9999',\n",
       "    'long_name': 'Flight',\n",
       "    'comment': '',\n",
       "    'cols': 1,\n",
       "    'width': 6},\n",
       "   {'name': 'Time',\n",
       "    'format': 'F10.4',\n",
       "    'unit': 'msec',\n",
       "    'null': '-999.9999',\n",
       "    'long_name': 'Time',\n",
       "    'comment': '',\n",
       "    'cols': 1,\n",
       "    'width': 10},\n",
       "   {'name': 'Tx_Current',\n",
       "    'format': 'F13.5',\n",
       "    'unit': 'Amp',\n",
       "    'null': '-99999.99999',\n",
       "    'long_name': 'Tx_Current',\n",
       "    'comment': '',\n",
       "    'cols': 1,\n",
       "    'width': 13}],\n",
       "  'format': None}}"
      ]
     },
     "execution_count": 18,
     "metadata": {},
     "output_type": "execute_result"
    }
   ],
   "source": [
    "gdf.record_types"
   ]
  },
  {
   "cell_type": "markdown",
   "metadata": {},
   "source": [
    "Get the data just for one field/column:"
   ]
  },
  {
   "cell_type": "code",
   "execution_count": 19,
   "metadata": {},
   "outputs": [
    {
     "data": {
      "text/plain": [
       "array([5.20000e-03, 1.04000e-02, 1.56000e-02, ..., 5.99844e+01,\n",
       "       5.99896e+01, 5.99948e+01])"
      ]
     },
     "execution_count": 19,
     "metadata": {},
     "output_type": "execute_result"
    }
   ],
   "source": [
    "gdf.get_field('Time')"
   ]
  },
  {
   "cell_type": "markdown",
   "metadata": {},
   "source": [
    "What about fields which are 2D arrays? Some GDF2 data files have fields with more than one value per row/record. e.g. in this one the last four fields each take up 30 columns:"
   ]
  },
  {
   "cell_type": "code",
   "execution_count": 20,
   "metadata": {},
   "outputs": [],
   "source": [
    "gdf = aseg_gdf2.read(r'c:/users/kinve/code/aseg_gdf2/tests/example_datasets/9a13704a/Mugrave_WB_MGA52.dfn')"
   ]
  },
  {
   "cell_type": "code",
   "execution_count": 22,
   "metadata": {},
   "outputs": [
    {
     "name": "stdout",
     "output_type": "stream",
     "text": [
      "DEFN   ST=RECD,RT=COMM;RT:A4;COMMENTS:A76\n",
      "DEFN 1 ST=RECD,RT=;GA_Project:I10:Geoscience Australia airborne survey project number\n",
      "DEFN 2 ST=RECD,RT=;Job_No:I10:SkyTEM Australia Job Number\n",
      "DEFN 3 ST=RECD,RT=;Fiducial:F15.2:Fiducial\n",
      "DEFN 4 ST=RECD,RT=;DATETIME:F18.10:UNIT=days,Decimal days since midnight December 31st 1899\n",
      "DEFN 5 ST=RECD,RT=;LINE:I10:Line number\n",
      "DEFN 6 ST=RECD,RT=;Easting:F12.2:NULL=-9999999.99,UNIT=m,Easting (GDA94 MGA Zone 52)\n",
      "DEFN 7 ST=RECD,RT=;NORTH:F15.2:NULL=-9999999999.99,UNIT=m,Northing (GDA 94 MGA Zone 52)\n",
      "DEFN 8 ST=RECD,RT=;DTM_AHD:F10.2:NULL=-99999.99,Digital terrain model (AUSGeoid09 datum)\n",
      "DEFN 9  ST=RECD,RT=;RESI1:F10.3:NULL=-9999.999,Residual of data\n",
      "DEFN 10 ST=RECD,RT=;HEIGHT:F10.2:NULL=-99999.99,UNIT=m,Laser altimeter measured height of Tx loop centre above ground\n",
      "DEFN 11 ST=RECD,RT=;INVHEI:F10.2:NULL=-99999.99,UNIT=m,Calulated inversion height\n",
      "DEFN 12 ST=RECD,RT=;DOI:F10.2:NULL=-99999.99,UNIT=m,Calculated depth of investigation\n",
      "DEFN 13 ST=RECD,RT=;Elev:30F12.2:NULL=-9999999.99,UNIT=m,Elevation to the top of each layer\n",
      "DEFN 14 ST=RECD,RT=;Con:30F15.5:NULL=-9999999.99999,UNIT=mS/m,Inverted Conductivity for each layer\n",
      "DEFN 15 ST=RECD,RT=;Con_doi:30F15.5:NULL=-9999999.99999,UNIT=mS/m, Inverted conductivity for each layer, masked to the depth of investigation\n",
      "DEFN 16 ST=RECD,RT=;RUnc:30F12.3:NULL=-999999.999,Relative uncertainty of conductivity layer;END DEFN\n",
      "\n"
     ]
    }
   ],
   "source": [
    "print(gdf.dfn_contents)"
   ]
  },
  {
   "cell_type": "markdown",
   "metadata": {},
   "source": [
    "You can see the field names in the normal manner:"
   ]
  },
  {
   "cell_type": "code",
   "execution_count": 23,
   "metadata": {},
   "outputs": [
    {
     "data": {
      "text/plain": [
       "['GA_Project',\n",
       " 'Job_No',\n",
       " 'Fiducial',\n",
       " 'DATETIME',\n",
       " 'LINE',\n",
       " 'Easting',\n",
       " 'NORTH',\n",
       " 'DTM_AHD',\n",
       " 'RESI1',\n",
       " 'HEIGHT',\n",
       " 'INVHEI',\n",
       " 'DOI',\n",
       " 'Elev',\n",
       " 'Con',\n",
       " 'Con_doi',\n",
       " 'RUnc']"
      ]
     },
     "execution_count": 23,
     "metadata": {},
     "output_type": "execute_result"
    }
   ],
   "source": [
    "gdf.field_names()"
   ]
  },
  {
   "cell_type": "markdown",
   "metadata": {},
   "source": [
    "Or you can see an \"expanded\" version of the fields, which is used for the column headings of the data table:"
   ]
  },
  {
   "cell_type": "code",
   "execution_count": 24,
   "metadata": {},
   "outputs": [
    {
     "data": {
      "text/plain": [
       "['GA_Project',\n",
       " 'Job_No',\n",
       " 'Fiducial',\n",
       " 'DATETIME',\n",
       " 'LINE',\n",
       " 'Easting',\n",
       " 'NORTH',\n",
       " 'DTM_AHD',\n",
       " 'RESI1',\n",
       " 'HEIGHT',\n",
       " 'INVHEI',\n",
       " 'DOI',\n",
       " 'Elev[0]',\n",
       " 'Elev[1]',\n",
       " 'Elev[2]',\n",
       " 'Elev[3]',\n",
       " 'Elev[4]',\n",
       " 'Elev[5]',\n",
       " 'Elev[6]',\n",
       " 'Elev[7]',\n",
       " 'Elev[8]',\n",
       " 'Elev[9]',\n",
       " 'Elev[10]',\n",
       " 'Elev[11]',\n",
       " 'Elev[12]',\n",
       " 'Elev[13]',\n",
       " 'Elev[14]',\n",
       " 'Elev[15]',\n",
       " 'Elev[16]',\n",
       " 'Elev[17]',\n",
       " 'Elev[18]',\n",
       " 'Elev[19]',\n",
       " 'Elev[20]',\n",
       " 'Elev[21]',\n",
       " 'Elev[22]',\n",
       " 'Elev[23]',\n",
       " 'Elev[24]',\n",
       " 'Elev[25]',\n",
       " 'Elev[26]',\n",
       " 'Elev[27]',\n",
       " 'Elev[28]',\n",
       " 'Elev[29]',\n",
       " 'Con[0]',\n",
       " 'Con[1]',\n",
       " 'Con[2]',\n",
       " 'Con[3]',\n",
       " 'Con[4]',\n",
       " 'Con[5]',\n",
       " 'Con[6]',\n",
       " 'Con[7]',\n",
       " 'Con[8]',\n",
       " 'Con[9]',\n",
       " 'Con[10]',\n",
       " 'Con[11]',\n",
       " 'Con[12]',\n",
       " 'Con[13]',\n",
       " 'Con[14]',\n",
       " 'Con[15]',\n",
       " 'Con[16]',\n",
       " 'Con[17]',\n",
       " 'Con[18]',\n",
       " 'Con[19]',\n",
       " 'Con[20]',\n",
       " 'Con[21]',\n",
       " 'Con[22]',\n",
       " 'Con[23]',\n",
       " 'Con[24]',\n",
       " 'Con[25]',\n",
       " 'Con[26]',\n",
       " 'Con[27]',\n",
       " 'Con[28]',\n",
       " 'Con[29]',\n",
       " 'Con_doi[0]',\n",
       " 'Con_doi[1]',\n",
       " 'Con_doi[2]',\n",
       " 'Con_doi[3]',\n",
       " 'Con_doi[4]',\n",
       " 'Con_doi[5]',\n",
       " 'Con_doi[6]',\n",
       " 'Con_doi[7]',\n",
       " 'Con_doi[8]',\n",
       " 'Con_doi[9]',\n",
       " 'Con_doi[10]',\n",
       " 'Con_doi[11]',\n",
       " 'Con_doi[12]',\n",
       " 'Con_doi[13]',\n",
       " 'Con_doi[14]',\n",
       " 'Con_doi[15]',\n",
       " 'Con_doi[16]',\n",
       " 'Con_doi[17]',\n",
       " 'Con_doi[18]',\n",
       " 'Con_doi[19]',\n",
       " 'Con_doi[20]',\n",
       " 'Con_doi[21]',\n",
       " 'Con_doi[22]',\n",
       " 'Con_doi[23]',\n",
       " 'Con_doi[24]',\n",
       " 'Con_doi[25]',\n",
       " 'Con_doi[26]',\n",
       " 'Con_doi[27]',\n",
       " 'Con_doi[28]',\n",
       " 'Con_doi[29]',\n",
       " 'RUnc[0]',\n",
       " 'RUnc[1]',\n",
       " 'RUnc[2]',\n",
       " 'RUnc[3]',\n",
       " 'RUnc[4]',\n",
       " 'RUnc[5]',\n",
       " 'RUnc[6]',\n",
       " 'RUnc[7]',\n",
       " 'RUnc[8]',\n",
       " 'RUnc[9]',\n",
       " 'RUnc[10]',\n",
       " 'RUnc[11]',\n",
       " 'RUnc[12]',\n",
       " 'RUnc[13]',\n",
       " 'RUnc[14]',\n",
       " 'RUnc[15]',\n",
       " 'RUnc[16]',\n",
       " 'RUnc[17]',\n",
       " 'RUnc[18]',\n",
       " 'RUnc[19]',\n",
       " 'RUnc[20]',\n",
       " 'RUnc[21]',\n",
       " 'RUnc[22]',\n",
       " 'RUnc[23]',\n",
       " 'RUnc[24]',\n",
       " 'RUnc[25]',\n",
       " 'RUnc[26]',\n",
       " 'RUnc[27]',\n",
       " 'RUnc[28]',\n",
       " 'RUnc[29]']"
      ]
     },
     "execution_count": 24,
     "metadata": {},
     "output_type": "execute_result"
    }
   ],
   "source": [
    "gdf.column_names()"
   ]
  },
  {
   "cell_type": "code",
   "execution_count": 30,
   "metadata": {},
   "outputs": [
    {
     "data": {
      "text/html": [
       "<div>\n",
       "<style scoped>\n",
       "    .dataframe tbody tr th:only-of-type {\n",
       "        vertical-align: middle;\n",
       "    }\n",
       "\n",
       "    .dataframe tbody tr th {\n",
       "        vertical-align: top;\n",
       "    }\n",
       "\n",
       "    .dataframe thead th {\n",
       "        text-align: right;\n",
       "    }\n",
       "</style>\n",
       "<table border=\"1\" class=\"dataframe\">\n",
       "  <thead>\n",
       "    <tr style=\"text-align: right;\">\n",
       "      <th></th>\n",
       "      <th>GA_Project</th>\n",
       "      <th>Job_No</th>\n",
       "      <th>Fiducial</th>\n",
       "      <th>DATETIME</th>\n",
       "      <th>LINE</th>\n",
       "      <th>Easting</th>\n",
       "      <th>NORTH</th>\n",
       "      <th>DTM_AHD</th>\n",
       "      <th>RESI1</th>\n",
       "      <th>HEIGHT</th>\n",
       "      <th>...</th>\n",
       "      <th>RUnc[20]</th>\n",
       "      <th>RUnc[21]</th>\n",
       "      <th>RUnc[22]</th>\n",
       "      <th>RUnc[23]</th>\n",
       "      <th>RUnc[24]</th>\n",
       "      <th>RUnc[25]</th>\n",
       "      <th>RUnc[26]</th>\n",
       "      <th>RUnc[27]</th>\n",
       "      <th>RUnc[28]</th>\n",
       "      <th>RUnc[29]</th>\n",
       "    </tr>\n",
       "  </thead>\n",
       "  <tbody>\n",
       "    <tr>\n",
       "      <th>0</th>\n",
       "      <td>1288</td>\n",
       "      <td>10013</td>\n",
       "      <td>3621109.0</td>\n",
       "      <td>42655.910984</td>\n",
       "      <td>112601</td>\n",
       "      <td>948001.6</td>\n",
       "      <td>7035223.1</td>\n",
       "      <td>354.1</td>\n",
       "      <td>1.091</td>\n",
       "      <td>40.98</td>\n",
       "      <td>...</td>\n",
       "      <td>1.39</td>\n",
       "      <td>1.76</td>\n",
       "      <td>2.35</td>\n",
       "      <td>3.26</td>\n",
       "      <td>4.45</td>\n",
       "      <td>5.74</td>\n",
       "      <td>6.94</td>\n",
       "      <td>8.00</td>\n",
       "      <td>8.99</td>\n",
       "      <td>98.0</td>\n",
       "    </tr>\n",
       "    <tr>\n",
       "      <th>1</th>\n",
       "      <td>1288</td>\n",
       "      <td>10013</td>\n",
       "      <td>3621110.0</td>\n",
       "      <td>42655.910995</td>\n",
       "      <td>112601</td>\n",
       "      <td>948001.9</td>\n",
       "      <td>7035196.8</td>\n",
       "      <td>353.8</td>\n",
       "      <td>1.101</td>\n",
       "      <td>41.08</td>\n",
       "      <td>...</td>\n",
       "      <td>1.43</td>\n",
       "      <td>1.84</td>\n",
       "      <td>2.47</td>\n",
       "      <td>3.41</td>\n",
       "      <td>4.62</td>\n",
       "      <td>5.90</td>\n",
       "      <td>7.09</td>\n",
       "      <td>8.15</td>\n",
       "      <td>9.15</td>\n",
       "      <td>98.0</td>\n",
       "    </tr>\n",
       "    <tr>\n",
       "      <th>2</th>\n",
       "      <td>1288</td>\n",
       "      <td>10013</td>\n",
       "      <td>3621111.0</td>\n",
       "      <td>42655.911007</td>\n",
       "      <td>112601</td>\n",
       "      <td>948001.5</td>\n",
       "      <td>7035169.5</td>\n",
       "      <td>353.7</td>\n",
       "      <td>0.813</td>\n",
       "      <td>41.03</td>\n",
       "      <td>...</td>\n",
       "      <td>1.45</td>\n",
       "      <td>1.88</td>\n",
       "      <td>2.53</td>\n",
       "      <td>3.48</td>\n",
       "      <td>4.70</td>\n",
       "      <td>5.97</td>\n",
       "      <td>7.16</td>\n",
       "      <td>8.22</td>\n",
       "      <td>9.21</td>\n",
       "      <td>98.0</td>\n",
       "    </tr>\n",
       "    <tr>\n",
       "      <th>3</th>\n",
       "      <td>1288</td>\n",
       "      <td>10013</td>\n",
       "      <td>3621112.0</td>\n",
       "      <td>42655.911019</td>\n",
       "      <td>112601</td>\n",
       "      <td>948000.6</td>\n",
       "      <td>7035141.6</td>\n",
       "      <td>353.9</td>\n",
       "      <td>0.567</td>\n",
       "      <td>40.79</td>\n",
       "      <td>...</td>\n",
       "      <td>1.45</td>\n",
       "      <td>1.87</td>\n",
       "      <td>2.53</td>\n",
       "      <td>3.49</td>\n",
       "      <td>4.71</td>\n",
       "      <td>5.98</td>\n",
       "      <td>7.16</td>\n",
       "      <td>8.21</td>\n",
       "      <td>9.20</td>\n",
       "      <td>98.0</td>\n",
       "    </tr>\n",
       "    <tr>\n",
       "      <th>4</th>\n",
       "      <td>1288</td>\n",
       "      <td>10013</td>\n",
       "      <td>3621113.0</td>\n",
       "      <td>42655.911030</td>\n",
       "      <td>112601</td>\n",
       "      <td>947999.1</td>\n",
       "      <td>7035113.6</td>\n",
       "      <td>354.2</td>\n",
       "      <td>0.522</td>\n",
       "      <td>40.37</td>\n",
       "      <td>...</td>\n",
       "      <td>1.45</td>\n",
       "      <td>1.88</td>\n",
       "      <td>2.54</td>\n",
       "      <td>3.52</td>\n",
       "      <td>4.74</td>\n",
       "      <td>6.01</td>\n",
       "      <td>7.18</td>\n",
       "      <td>8.23</td>\n",
       "      <td>9.22</td>\n",
       "      <td>98.0</td>\n",
       "    </tr>\n",
       "  </tbody>\n",
       "</table>\n",
       "<p>5 rows × 132 columns</p>\n",
       "</div>"
      ],
      "text/plain": [
       "   GA_Project  Job_No   Fiducial      DATETIME    LINE   Easting      NORTH  \\\n",
       "0        1288   10013  3621109.0  42655.910984  112601  948001.6  7035223.1   \n",
       "1        1288   10013  3621110.0  42655.910995  112601  948001.9  7035196.8   \n",
       "2        1288   10013  3621111.0  42655.911007  112601  948001.5  7035169.5   \n",
       "3        1288   10013  3621112.0  42655.911019  112601  948000.6  7035141.6   \n",
       "4        1288   10013  3621113.0  42655.911030  112601  947999.1  7035113.6   \n",
       "\n",
       "   DTM_AHD  RESI1  HEIGHT    ...     RUnc[20]  RUnc[21]  RUnc[22]  RUnc[23]  \\\n",
       "0    354.1  1.091   40.98    ...         1.39      1.76      2.35      3.26   \n",
       "1    353.8  1.101   41.08    ...         1.43      1.84      2.47      3.41   \n",
       "2    353.7  0.813   41.03    ...         1.45      1.88      2.53      3.48   \n",
       "3    353.9  0.567   40.79    ...         1.45      1.87      2.53      3.49   \n",
       "4    354.2  0.522   40.37    ...         1.45      1.88      2.54      3.52   \n",
       "\n",
       "   RUnc[24]  RUnc[25]  RUnc[26]  RUnc[27]  RUnc[28]  RUnc[29]  \n",
       "0      4.45      5.74      6.94      8.00      8.99      98.0  \n",
       "1      4.62      5.90      7.09      8.15      9.15      98.0  \n",
       "2      4.70      5.97      7.16      8.22      9.21      98.0  \n",
       "3      4.71      5.98      7.16      8.21      9.20      98.0  \n",
       "4      4.74      6.01      7.18      8.23      9.22      98.0  \n",
       "\n",
       "[5 rows x 132 columns]"
      ]
     },
     "execution_count": 30,
     "metadata": {},
     "output_type": "execute_result"
    }
   ],
   "source": [
    "gdf.df().head()"
   ]
  },
  {
   "cell_type": "markdown",
   "metadata": {},
   "source": [
    "You can retrieve one of the original field arrays using ``get_field()``:"
   ]
  },
  {
   "cell_type": "code",
   "execution_count": 27,
   "metadata": {},
   "outputs": [
    {
     "data": {
      "text/plain": [
       "array([[ 354.1,  352.1,  349.8, ..., -105.8, -171.2, -245.7],\n",
       "       [ 353.8,  351.8,  349.5, ..., -106.1, -171.5, -246. ],\n",
       "       [ 353.7,  351.7,  349.4, ..., -106.2, -171.6, -246.1],\n",
       "       ...,\n",
       "       [ 510.5,  508.5,  506.2, ...,   50.6,  -14.8,  -89.3],\n",
       "       [ 510.5,  508.5,  506.2, ...,   50.6,  -14.8,  -89.3],\n",
       "       [ 510.6,  508.6,  506.3, ...,   50.7,  -14.7,  -89.2]])"
      ]
     },
     "execution_count": 27,
     "metadata": {},
     "output_type": "execute_result"
    }
   ],
   "source": [
    "gdf.get_field(\"Elev\")"
   ]
  },
  {
   "cell_type": "markdown",
   "metadata": {},
   "source": [
    "Or one of the columns:"
   ]
  },
  {
   "cell_type": "code",
   "execution_count": 28,
   "metadata": {},
   "outputs": [
    {
     "data": {
      "text/plain": [
       "array([354.1, 353.8, 353.7, 353.9, 354.2, 354.5, 354.6, 354.7, 354.6,\n",
       "       354.5, 354.3, 354.1, 353.9, 353.8, 353.9, 354. , 512.8, 512.6,\n",
       "       512.4, 512.3, 512.3, 512.5, 512.7, 512.9, 512.9, 512.8, 512.6,\n",
       "       512.4, 512. , 511.7, 511.4, 511.2, 511. , 510.6, 510.5, 510.5,\n",
       "       510.5, 510.6])"
      ]
     },
     "execution_count": 28,
     "metadata": {},
     "output_type": "execute_result"
    }
   ],
   "source": [
    "gdf.get_field(\"Elev[0]\")"
   ]
  },
  {
   "cell_type": "markdown",
   "metadata": {},
   "source": [
    "You can also retrieve a subset of fields and column names as a pandas.DataFrame using the [``usecols`` keyword argument](https://pandas.pydata.org/pandas-docs/version/0.22/generated/pandas.read_fwf.html) -- you don't necessarily need to retrieve the whole file at once. Note that the multidimensional ``'Con'`` field is expanded into the column names:"
   ]
  },
  {
   "cell_type": "code",
   "execution_count": 29,
   "metadata": {},
   "outputs": [
    {
     "data": {
      "text/html": [
       "<div>\n",
       "<style scoped>\n",
       "    .dataframe tbody tr th:only-of-type {\n",
       "        vertical-align: middle;\n",
       "    }\n",
       "\n",
       "    .dataframe tbody tr th {\n",
       "        vertical-align: top;\n",
       "    }\n",
       "\n",
       "    .dataframe thead th {\n",
       "        text-align: right;\n",
       "    }\n",
       "</style>\n",
       "<table border=\"1\" class=\"dataframe\">\n",
       "  <thead>\n",
       "    <tr style=\"text-align: right;\">\n",
       "      <th></th>\n",
       "      <th>Easting</th>\n",
       "      <th>NORTH</th>\n",
       "      <th>Con[0]</th>\n",
       "      <th>Con[1]</th>\n",
       "      <th>Con[2]</th>\n",
       "      <th>Con[3]</th>\n",
       "      <th>Con[4]</th>\n",
       "      <th>Con[5]</th>\n",
       "      <th>Con[6]</th>\n",
       "      <th>Con[7]</th>\n",
       "      <th>...</th>\n",
       "      <th>Con[20]</th>\n",
       "      <th>Con[21]</th>\n",
       "      <th>Con[22]</th>\n",
       "      <th>Con[23]</th>\n",
       "      <th>Con[24]</th>\n",
       "      <th>Con[25]</th>\n",
       "      <th>Con[26]</th>\n",
       "      <th>Con[27]</th>\n",
       "      <th>Con[28]</th>\n",
       "      <th>Con[29]</th>\n",
       "    </tr>\n",
       "  </thead>\n",
       "  <tbody>\n",
       "    <tr>\n",
       "      <th>0</th>\n",
       "      <td>948001.6</td>\n",
       "      <td>7035223.1</td>\n",
       "      <td>28.76870</td>\n",
       "      <td>31.88776</td>\n",
       "      <td>46.04052</td>\n",
       "      <td>83.68201</td>\n",
       "      <td>157.48031</td>\n",
       "      <td>231.53508</td>\n",
       "      <td>242.01355</td>\n",
       "      <td>198.84669</td>\n",
       "      <td>...</td>\n",
       "      <td>108.63661</td>\n",
       "      <td>145.39110</td>\n",
       "      <td>181.29079</td>\n",
       "      <td>191.60759</td>\n",
       "      <td>178.44397</td>\n",
       "      <td>162.31131</td>\n",
       "      <td>152.43902</td>\n",
       "      <td>148.38997</td>\n",
       "      <td>147.49263</td>\n",
       "      <td>147.42739</td>\n",
       "    </tr>\n",
       "    <tr>\n",
       "      <th>1</th>\n",
       "      <td>948001.9</td>\n",
       "      <td>7035196.8</td>\n",
       "      <td>31.06555</td>\n",
       "      <td>35.47357</td>\n",
       "      <td>51.17707</td>\n",
       "      <td>92.08103</td>\n",
       "      <td>165.37126</td>\n",
       "      <td>235.73786</td>\n",
       "      <td>237.41690</td>\n",
       "      <td>190.65777</td>\n",
       "      <td>...</td>\n",
       "      <td>108.95620</td>\n",
       "      <td>144.84357</td>\n",
       "      <td>179.79144</td>\n",
       "      <td>190.36741</td>\n",
       "      <td>177.99929</td>\n",
       "      <td>162.33766</td>\n",
       "      <td>152.55530</td>\n",
       "      <td>148.47810</td>\n",
       "      <td>147.53615</td>\n",
       "      <td>147.47087</td>\n",
       "    </tr>\n",
       "    <tr>\n",
       "      <th>2</th>\n",
       "      <td>948001.5</td>\n",
       "      <td>7035169.5</td>\n",
       "      <td>38.18251</td>\n",
       "      <td>42.48088</td>\n",
       "      <td>59.91612</td>\n",
       "      <td>103.59474</td>\n",
       "      <td>174.79462</td>\n",
       "      <td>232.07241</td>\n",
       "      <td>225.88660</td>\n",
       "      <td>178.98693</td>\n",
       "      <td>...</td>\n",
       "      <td>110.29006</td>\n",
       "      <td>146.09204</td>\n",
       "      <td>179.88847</td>\n",
       "      <td>189.35808</td>\n",
       "      <td>177.11654</td>\n",
       "      <td>161.89089</td>\n",
       "      <td>152.46227</td>\n",
       "      <td>148.54427</td>\n",
       "      <td>147.66686</td>\n",
       "      <td>147.62327</td>\n",
       "    </tr>\n",
       "    <tr>\n",
       "      <th>3</th>\n",
       "      <td>948000.6</td>\n",
       "      <td>7035141.6</td>\n",
       "      <td>47.61905</td>\n",
       "      <td>51.84033</td>\n",
       "      <td>70.17544</td>\n",
       "      <td>114.31184</td>\n",
       "      <td>178.79492</td>\n",
       "      <td>219.92523</td>\n",
       "      <td>212.44954</td>\n",
       "      <td>170.64846</td>\n",
       "      <td>...</td>\n",
       "      <td>112.81588</td>\n",
       "      <td>148.58841</td>\n",
       "      <td>180.31013</td>\n",
       "      <td>187.68769</td>\n",
       "      <td>175.37706</td>\n",
       "      <td>161.00467</td>\n",
       "      <td>152.23017</td>\n",
       "      <td>148.65468</td>\n",
       "      <td>147.88524</td>\n",
       "      <td>147.86337</td>\n",
       "    </tr>\n",
       "    <tr>\n",
       "      <th>4</th>\n",
       "      <td>947999.1</td>\n",
       "      <td>7035113.6</td>\n",
       "      <td>58.58231</td>\n",
       "      <td>61.12469</td>\n",
       "      <td>77.45933</td>\n",
       "      <td>118.04982</td>\n",
       "      <td>173.64126</td>\n",
       "      <td>209.51184</td>\n",
       "      <td>204.49898</td>\n",
       "      <td>168.60563</td>\n",
       "      <td>...</td>\n",
       "      <td>114.48197</td>\n",
       "      <td>150.03751</td>\n",
       "      <td>180.21265</td>\n",
       "      <td>186.35855</td>\n",
       "      <td>174.27675</td>\n",
       "      <td>160.56519</td>\n",
       "      <td>152.23017</td>\n",
       "      <td>148.83167</td>\n",
       "      <td>148.10427</td>\n",
       "      <td>148.08233</td>\n",
       "    </tr>\n",
       "  </tbody>\n",
       "</table>\n",
       "<p>5 rows × 32 columns</p>\n",
       "</div>"
      ],
      "text/plain": [
       "    Easting      NORTH    Con[0]    Con[1]    Con[2]     Con[3]     Con[4]  \\\n",
       "0  948001.6  7035223.1  28.76870  31.88776  46.04052   83.68201  157.48031   \n",
       "1  948001.9  7035196.8  31.06555  35.47357  51.17707   92.08103  165.37126   \n",
       "2  948001.5  7035169.5  38.18251  42.48088  59.91612  103.59474  174.79462   \n",
       "3  948000.6  7035141.6  47.61905  51.84033  70.17544  114.31184  178.79492   \n",
       "4  947999.1  7035113.6  58.58231  61.12469  77.45933  118.04982  173.64126   \n",
       "\n",
       "      Con[5]     Con[6]     Con[7]    ...        Con[20]    Con[21]  \\\n",
       "0  231.53508  242.01355  198.84669    ...      108.63661  145.39110   \n",
       "1  235.73786  237.41690  190.65777    ...      108.95620  144.84357   \n",
       "2  232.07241  225.88660  178.98693    ...      110.29006  146.09204   \n",
       "3  219.92523  212.44954  170.64846    ...      112.81588  148.58841   \n",
       "4  209.51184  204.49898  168.60563    ...      114.48197  150.03751   \n",
       "\n",
       "     Con[22]    Con[23]    Con[24]    Con[25]    Con[26]    Con[27]  \\\n",
       "0  181.29079  191.60759  178.44397  162.31131  152.43902  148.38997   \n",
       "1  179.79144  190.36741  177.99929  162.33766  152.55530  148.47810   \n",
       "2  179.88847  189.35808  177.11654  161.89089  152.46227  148.54427   \n",
       "3  180.31013  187.68769  175.37706  161.00467  152.23017  148.65468   \n",
       "4  180.21265  186.35855  174.27675  160.56519  152.23017  148.83167   \n",
       "\n",
       "     Con[28]    Con[29]  \n",
       "0  147.49263  147.42739  \n",
       "1  147.53615  147.47087  \n",
       "2  147.66686  147.62327  \n",
       "3  147.88524  147.86337  \n",
       "4  148.10427  148.08233  \n",
       "\n",
       "[5 rows x 32 columns]"
      ]
     },
     "execution_count": 29,
     "metadata": {},
     "output_type": "execute_result"
    }
   ],
   "source": [
    "gdf.df(usecols=['Easting', 'NORTH', 'Con']).head()"
   ]
  },
  {
   "cell_type": "code",
   "execution_count": null,
   "metadata": {},
   "outputs": [],
   "source": []
  }
 ],
 "metadata": {
  "kernelspec": {
   "display_name": "Python 3",
   "language": "python",
   "name": "python3"
  },
  "language_info": {
   "codemirror_mode": {
    "name": "ipython",
    "version": 3
   },
   "file_extension": ".py",
   "mimetype": "text/x-python",
   "name": "python",
   "nbconvert_exporter": "python",
   "pygments_lexer": "ipython3",
   "version": "3.7.1"
  }
 },
 "nbformat": 4,
 "nbformat_minor": 2
}
