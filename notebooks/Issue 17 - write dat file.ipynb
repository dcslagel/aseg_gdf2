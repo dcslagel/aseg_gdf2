{
 "cells": [
  {
   "cell_type": "code",
   "execution_count": 70,
   "metadata": {},
   "outputs": [],
   "source": [
    "import shutil\n",
    "\n",
    "import aseg_gdf2"
   ]
  },
  {
   "cell_type": "markdown",
   "metadata": {},
   "source": [
    "Use the third-party package ``fortranformat`` to parse the GDF2 format fields"
   ]
  },
  {
   "cell_type": "code",
   "execution_count": 47,
   "metadata": {},
   "outputs": [],
   "source": [
    "import fortranformat as ff"
   ]
  },
  {
   "cell_type": "code",
   "execution_count": 5,
   "metadata": {},
   "outputs": [],
   "source": [
    "gdf = aseg_gdf2.read(r'c:\\users\\kinve\\code\\aseg_gdf2\\tests\\example_datasets\\3bcfc711\\GA1286_Waveforms')"
   ]
  },
  {
   "cell_type": "code",
   "execution_count": 35,
   "metadata": {},
   "outputs": [
    {
     "data": {
      "text/html": [
       "<div>\n",
       "<style scoped>\n",
       "    .dataframe tbody tr th:only-of-type {\n",
       "        vertical-align: middle;\n",
       "    }\n",
       "\n",
       "    .dataframe tbody tr th {\n",
       "        vertical-align: top;\n",
       "    }\n",
       "\n",
       "    .dataframe thead th {\n",
       "        text-align: right;\n",
       "    }\n",
       "</style>\n",
       "<table border=\"1\" class=\"dataframe\">\n",
       "  <thead>\n",
       "    <tr style=\"text-align: right;\">\n",
       "      <th></th>\n",
       "      <th>FLTNUM</th>\n",
       "      <th>Rx_Voltage</th>\n",
       "      <th>Flight</th>\n",
       "      <th>Time</th>\n",
       "      <th>Tx_Current</th>\n",
       "    </tr>\n",
       "  </thead>\n",
       "  <tbody>\n",
       "    <tr>\n",
       "      <th>0</th>\n",
       "      <td>1.0</td>\n",
       "      <td>-0.0</td>\n",
       "      <td>1</td>\n",
       "      <td>0.0052</td>\n",
       "      <td>0.00176</td>\n",
       "    </tr>\n",
       "    <tr>\n",
       "      <th>1</th>\n",
       "      <td>1.0</td>\n",
       "      <td>-0.0</td>\n",
       "      <td>1</td>\n",
       "      <td>0.0104</td>\n",
       "      <td>0.00176</td>\n",
       "    </tr>\n",
       "    <tr>\n",
       "      <th>2</th>\n",
       "      <td>1.0</td>\n",
       "      <td>-0.0</td>\n",
       "      <td>1</td>\n",
       "      <td>0.0156</td>\n",
       "      <td>0.00176</td>\n",
       "    </tr>\n",
       "    <tr>\n",
       "      <th>3</th>\n",
       "      <td>1.0</td>\n",
       "      <td>-0.0</td>\n",
       "      <td>1</td>\n",
       "      <td>0.0208</td>\n",
       "      <td>0.00176</td>\n",
       "    </tr>\n",
       "    <tr>\n",
       "      <th>4</th>\n",
       "      <td>1.0</td>\n",
       "      <td>-0.0</td>\n",
       "      <td>1</td>\n",
       "      <td>0.0260</td>\n",
       "      <td>0.00176</td>\n",
       "    </tr>\n",
       "  </tbody>\n",
       "</table>\n",
       "</div>"
      ],
      "text/plain": [
       "   FLTNUM  Rx_Voltage  Flight    Time  Tx_Current\n",
       "0     1.0        -0.0       1  0.0052     0.00176\n",
       "1     1.0        -0.0       1  0.0104     0.00176\n",
       "2     1.0        -0.0       1  0.0156     0.00176\n",
       "3     1.0        -0.0       1  0.0208     0.00176\n",
       "4     1.0        -0.0       1  0.0260     0.00176"
      ]
     },
     "execution_count": 35,
     "metadata": {},
     "output_type": "execute_result"
    }
   ],
   "source": [
    "df = gdf.df()\n",
    "df.head()"
   ]
  },
  {
   "cell_type": "code",
   "execution_count": 36,
   "metadata": {},
   "outputs": [],
   "source": [
    "df[\"FLTNUM\"] = df.FLTNUM * 1000"
   ]
  },
  {
   "cell_type": "code",
   "execution_count": 37,
   "metadata": {},
   "outputs": [
    {
     "data": {
      "text/html": [
       "<div>\n",
       "<style scoped>\n",
       "    .dataframe tbody tr th:only-of-type {\n",
       "        vertical-align: middle;\n",
       "    }\n",
       "\n",
       "    .dataframe tbody tr th {\n",
       "        vertical-align: top;\n",
       "    }\n",
       "\n",
       "    .dataframe thead th {\n",
       "        text-align: right;\n",
       "    }\n",
       "</style>\n",
       "<table border=\"1\" class=\"dataframe\">\n",
       "  <thead>\n",
       "    <tr style=\"text-align: right;\">\n",
       "      <th></th>\n",
       "      <th>FLTNUM</th>\n",
       "      <th>Rx_Voltage</th>\n",
       "      <th>Flight</th>\n",
       "      <th>Time</th>\n",
       "      <th>Tx_Current</th>\n",
       "    </tr>\n",
       "  </thead>\n",
       "  <tbody>\n",
       "    <tr>\n",
       "      <th>0</th>\n",
       "      <td>1000.0</td>\n",
       "      <td>-0.0</td>\n",
       "      <td>1</td>\n",
       "      <td>0.0052</td>\n",
       "      <td>0.00176</td>\n",
       "    </tr>\n",
       "    <tr>\n",
       "      <th>1</th>\n",
       "      <td>1000.0</td>\n",
       "      <td>-0.0</td>\n",
       "      <td>1</td>\n",
       "      <td>0.0104</td>\n",
       "      <td>0.00176</td>\n",
       "    </tr>\n",
       "    <tr>\n",
       "      <th>2</th>\n",
       "      <td>1000.0</td>\n",
       "      <td>-0.0</td>\n",
       "      <td>1</td>\n",
       "      <td>0.0156</td>\n",
       "      <td>0.00176</td>\n",
       "    </tr>\n",
       "    <tr>\n",
       "      <th>3</th>\n",
       "      <td>1000.0</td>\n",
       "      <td>-0.0</td>\n",
       "      <td>1</td>\n",
       "      <td>0.0208</td>\n",
       "      <td>0.00176</td>\n",
       "    </tr>\n",
       "    <tr>\n",
       "      <th>4</th>\n",
       "      <td>1000.0</td>\n",
       "      <td>-0.0</td>\n",
       "      <td>1</td>\n",
       "      <td>0.0260</td>\n",
       "      <td>0.00176</td>\n",
       "    </tr>\n",
       "    <tr>\n",
       "      <th>...</th>\n",
       "      <td>...</td>\n",
       "      <td>...</td>\n",
       "      <td>...</td>\n",
       "      <td>...</td>\n",
       "      <td>...</td>\n",
       "    </tr>\n",
       "    <tr>\n",
       "      <th>23035</th>\n",
       "      <td>2000.0</td>\n",
       "      <td>-0.0</td>\n",
       "      <td>2</td>\n",
       "      <td>59.9740</td>\n",
       "      <td>-0.00170</td>\n",
       "    </tr>\n",
       "    <tr>\n",
       "      <th>23036</th>\n",
       "      <td>2000.0</td>\n",
       "      <td>-0.0</td>\n",
       "      <td>2</td>\n",
       "      <td>59.9792</td>\n",
       "      <td>-0.00170</td>\n",
       "    </tr>\n",
       "    <tr>\n",
       "      <th>23037</th>\n",
       "      <td>2000.0</td>\n",
       "      <td>-0.0</td>\n",
       "      <td>2</td>\n",
       "      <td>59.9844</td>\n",
       "      <td>-0.00170</td>\n",
       "    </tr>\n",
       "    <tr>\n",
       "      <th>23038</th>\n",
       "      <td>2000.0</td>\n",
       "      <td>-0.0</td>\n",
       "      <td>2</td>\n",
       "      <td>59.9896</td>\n",
       "      <td>-0.00170</td>\n",
       "    </tr>\n",
       "    <tr>\n",
       "      <th>23039</th>\n",
       "      <td>2000.0</td>\n",
       "      <td>-0.0</td>\n",
       "      <td>2</td>\n",
       "      <td>59.9948</td>\n",
       "      <td>-0.00170</td>\n",
       "    </tr>\n",
       "  </tbody>\n",
       "</table>\n",
       "<p>23040 rows × 5 columns</p>\n",
       "</div>"
      ],
      "text/plain": [
       "       FLTNUM  Rx_Voltage  Flight     Time  Tx_Current\n",
       "0      1000.0        -0.0       1   0.0052     0.00176\n",
       "1      1000.0        -0.0       1   0.0104     0.00176\n",
       "2      1000.0        -0.0       1   0.0156     0.00176\n",
       "3      1000.0        -0.0       1   0.0208     0.00176\n",
       "4      1000.0        -0.0       1   0.0260     0.00176\n",
       "...       ...         ...     ...      ...         ...\n",
       "23035  2000.0        -0.0       2  59.9740    -0.00170\n",
       "23036  2000.0        -0.0       2  59.9792    -0.00170\n",
       "23037  2000.0        -0.0       2  59.9844    -0.00170\n",
       "23038  2000.0        -0.0       2  59.9896    -0.00170\n",
       "23039  2000.0        -0.0       2  59.9948    -0.00170\n",
       "\n",
       "[23040 rows x 5 columns]"
      ]
     },
     "execution_count": 37,
     "metadata": {},
     "output_type": "execute_result"
    }
   ],
   "source": [
    "df"
   ]
  },
  {
   "cell_type": "code",
   "execution_count": 38,
   "metadata": {},
   "outputs": [
    {
     "data": {
      "text/plain": [
       "{'': {'fields': [{'name': 'FLTNUM',\n",
       "    'format': 'F10.1',\n",
       "    'unit': '',\n",
       "    'null': None,\n",
       "    'long_name': 'FlightNumber',\n",
       "    'comment': '',\n",
       "    'cols': 1,\n",
       "    'width': 10},\n",
       "   {'name': 'Rx_Voltage',\n",
       "    'format': 'F10.5',\n",
       "    'unit': 'Volt',\n",
       "    'null': '-99.99999',\n",
       "    'long_name': 'Rx_Voltage',\n",
       "    'comment': '',\n",
       "    'cols': 1,\n",
       "    'width': 10},\n",
       "   {'name': 'Flight',\n",
       "    'format': 'I6',\n",
       "    'unit': '',\n",
       "    'null': '-9999',\n",
       "    'long_name': 'Flight',\n",
       "    'comment': '',\n",
       "    'cols': 1,\n",
       "    'width': 6},\n",
       "   {'name': 'Time',\n",
       "    'format': 'F10.4',\n",
       "    'unit': 'msec',\n",
       "    'null': '-999.9999',\n",
       "    'long_name': 'Time',\n",
       "    'comment': '',\n",
       "    'cols': 1,\n",
       "    'width': 10},\n",
       "   {'name': 'Tx_Current',\n",
       "    'format': 'F13.5',\n",
       "    'unit': 'Amp',\n",
       "    'null': '-99999.99999',\n",
       "    'long_name': 'Tx_Current',\n",
       "    'comment': '',\n",
       "    'cols': 1,\n",
       "    'width': 13}],\n",
       "  'format': None}}"
      ]
     },
     "execution_count": 38,
     "metadata": {},
     "output_type": "execute_result"
    }
   ],
   "source": [
    "gdf.record_types"
   ]
  },
  {
   "cell_type": "markdown",
   "metadata": {},
   "source": [
    "Create new DFN and DAT files"
   ]
  },
  {
   "cell_type": "code",
   "execution_count": 44,
   "metadata": {},
   "outputs": [
    {
     "data": {
      "text/plain": [
       "'c:\\\\users\\\\kinve\\\\code\\\\aseg_gdf2\\\\tests\\\\example_datasets\\\\3bcfc711\\\\GA1286_Waveforms.DFN'"
      ]
     },
     "execution_count": 44,
     "metadata": {},
     "output_type": "execute_result"
    }
   ],
   "source": [
    "gdf.dfn_filename"
   ]
  },
  {
   "cell_type": "code",
   "execution_count": 45,
   "metadata": {},
   "outputs": [
    {
     "data": {
      "text/plain": [
       "'c:\\\\users\\\\kinve\\\\code\\\\aseg_gdf2\\\\tests\\\\example_datasets\\\\3bcfc711\\\\GA1286_Waveforms.dat'"
      ]
     },
     "execution_count": 45,
     "metadata": {},
     "output_type": "execute_result"
    }
   ],
   "source": [
    "gdf.dat_filename"
   ]
  },
  {
   "cell_type": "code",
   "execution_count": 49,
   "metadata": {},
   "outputs": [],
   "source": [
    "new_dfn_filename = gdf.dfn_filename.lower().replace(\".dfn\", \"_v2.dfn\")\n",
    "new_dat_filename = gdf.dat_filename.lower().replace(\".dat\", \"_v2.dat\")"
   ]
  },
  {
   "cell_type": "markdown",
   "metadata": {},
   "source": [
    "Duplicate the dfn file."
   ]
  },
  {
   "cell_type": "code",
   "execution_count": 50,
   "metadata": {},
   "outputs": [
    {
     "data": {
      "text/plain": [
       "'c:\\\\users\\\\kinve\\\\code\\\\aseg_gdf2\\\\tests\\\\example_datasets\\\\3bcfc711\\\\ga1286_waveforms_v2.dfn'"
      ]
     },
     "execution_count": 50,
     "metadata": {},
     "output_type": "execute_result"
    }
   ],
   "source": [
    "shutil.copyfile(gdf.dfn_filename, new_dfn_filename)"
   ]
  },
  {
   "cell_type": "markdown",
   "metadata": {},
   "source": [
    "Obtain formatting fields for a given record type (this only works in the simple situation when there is one record type).\n",
    "\n",
    "Also get the values to fill per column for NaN values."
   ]
  },
  {
   "cell_type": "code",
   "execution_count": 68,
   "metadata": {},
   "outputs": [],
   "source": [
    "rt = \"\" # NULL record type\n",
    "format_fields = \", \".join([field[\"format\"] for field in gdf.record_types[rt][\"fields\"]])\n",
    "null_values = {\n",
    "    field[\"name\"]: float(field[\"null\"]) if field[\"null\"] else None\n",
    "    for field in gdf.record_types[rt][\"fields\"]\n",
    "}\n",
    "\n",
    "writer = ff.FortranRecordWriter(\"(\" + format_fields + \")\")"
   ]
  },
  {
   "cell_type": "code",
   "execution_count": 69,
   "metadata": {},
   "outputs": [],
   "source": [
    "with open(new_dat_filename, \"w\") as new_dat:\n",
    "    for idx, series in df.iterrows():\n",
    "        series_filled = series.fillna(null_values)\n",
    "        line = writer.write(series_filled).replace(\"\\n\", \"\")\n",
    "        new_dat.write(line + \"\\n\")"
   ]
  },
  {
   "cell_type": "markdown",
   "metadata": {},
   "source": [
    "Check the output file."
   ]
  },
  {
   "cell_type": "code",
   "execution_count": 71,
   "metadata": {},
   "outputs": [],
   "source": [
    "gdf_v2 = aseg_gdf2.read(new_dfn_filename)"
   ]
  },
  {
   "cell_type": "code",
   "execution_count": 72,
   "metadata": {},
   "outputs": [
    {
     "data": {
      "text/html": [
       "<div>\n",
       "<style scoped>\n",
       "    .dataframe tbody tr th:only-of-type {\n",
       "        vertical-align: middle;\n",
       "    }\n",
       "\n",
       "    .dataframe tbody tr th {\n",
       "        vertical-align: top;\n",
       "    }\n",
       "\n",
       "    .dataframe thead th {\n",
       "        text-align: right;\n",
       "    }\n",
       "</style>\n",
       "<table border=\"1\" class=\"dataframe\">\n",
       "  <thead>\n",
       "    <tr style=\"text-align: right;\">\n",
       "      <th></th>\n",
       "      <th>FLTNUM</th>\n",
       "      <th>Rx_Voltage</th>\n",
       "      <th>Flight</th>\n",
       "      <th>Time</th>\n",
       "      <th>Tx_Current</th>\n",
       "    </tr>\n",
       "  </thead>\n",
       "  <tbody>\n",
       "    <tr>\n",
       "      <th>0</th>\n",
       "      <td>1000.0</td>\n",
       "      <td>0.0</td>\n",
       "      <td>1</td>\n",
       "      <td>0.0052</td>\n",
       "      <td>0.00176</td>\n",
       "    </tr>\n",
       "    <tr>\n",
       "      <th>1</th>\n",
       "      <td>1000.0</td>\n",
       "      <td>0.0</td>\n",
       "      <td>1</td>\n",
       "      <td>0.0104</td>\n",
       "      <td>0.00176</td>\n",
       "    </tr>\n",
       "    <tr>\n",
       "      <th>2</th>\n",
       "      <td>1000.0</td>\n",
       "      <td>0.0</td>\n",
       "      <td>1</td>\n",
       "      <td>0.0156</td>\n",
       "      <td>0.00176</td>\n",
       "    </tr>\n",
       "    <tr>\n",
       "      <th>3</th>\n",
       "      <td>1000.0</td>\n",
       "      <td>0.0</td>\n",
       "      <td>1</td>\n",
       "      <td>0.0208</td>\n",
       "      <td>0.00176</td>\n",
       "    </tr>\n",
       "    <tr>\n",
       "      <th>4</th>\n",
       "      <td>1000.0</td>\n",
       "      <td>0.0</td>\n",
       "      <td>1</td>\n",
       "      <td>0.0260</td>\n",
       "      <td>0.00176</td>\n",
       "    </tr>\n",
       "    <tr>\n",
       "      <th>...</th>\n",
       "      <td>...</td>\n",
       "      <td>...</td>\n",
       "      <td>...</td>\n",
       "      <td>...</td>\n",
       "      <td>...</td>\n",
       "    </tr>\n",
       "    <tr>\n",
       "      <th>23035</th>\n",
       "      <td>2000.0</td>\n",
       "      <td>0.0</td>\n",
       "      <td>2</td>\n",
       "      <td>59.9740</td>\n",
       "      <td>-0.00170</td>\n",
       "    </tr>\n",
       "    <tr>\n",
       "      <th>23036</th>\n",
       "      <td>2000.0</td>\n",
       "      <td>0.0</td>\n",
       "      <td>2</td>\n",
       "      <td>59.9792</td>\n",
       "      <td>-0.00170</td>\n",
       "    </tr>\n",
       "    <tr>\n",
       "      <th>23037</th>\n",
       "      <td>2000.0</td>\n",
       "      <td>0.0</td>\n",
       "      <td>2</td>\n",
       "      <td>59.9844</td>\n",
       "      <td>-0.00170</td>\n",
       "    </tr>\n",
       "    <tr>\n",
       "      <th>23038</th>\n",
       "      <td>2000.0</td>\n",
       "      <td>0.0</td>\n",
       "      <td>2</td>\n",
       "      <td>59.9896</td>\n",
       "      <td>-0.00170</td>\n",
       "    </tr>\n",
       "    <tr>\n",
       "      <th>23039</th>\n",
       "      <td>2000.0</td>\n",
       "      <td>0.0</td>\n",
       "      <td>2</td>\n",
       "      <td>59.9948</td>\n",
       "      <td>-0.00170</td>\n",
       "    </tr>\n",
       "  </tbody>\n",
       "</table>\n",
       "<p>23040 rows × 5 columns</p>\n",
       "</div>"
      ],
      "text/plain": [
       "       FLTNUM  Rx_Voltage  Flight     Time  Tx_Current\n",
       "0      1000.0         0.0       1   0.0052     0.00176\n",
       "1      1000.0         0.0       1   0.0104     0.00176\n",
       "2      1000.0         0.0       1   0.0156     0.00176\n",
       "3      1000.0         0.0       1   0.0208     0.00176\n",
       "4      1000.0         0.0       1   0.0260     0.00176\n",
       "...       ...         ...     ...      ...         ...\n",
       "23035  2000.0         0.0       2  59.9740    -0.00170\n",
       "23036  2000.0         0.0       2  59.9792    -0.00170\n",
       "23037  2000.0         0.0       2  59.9844    -0.00170\n",
       "23038  2000.0         0.0       2  59.9896    -0.00170\n",
       "23039  2000.0         0.0       2  59.9948    -0.00170\n",
       "\n",
       "[23040 rows x 5 columns]"
      ]
     },
     "execution_count": 72,
     "metadata": {},
     "output_type": "execute_result"
    }
   ],
   "source": [
    "gdf_v2.df()"
   ]
  },
  {
   "cell_type": "markdown",
   "metadata": {},
   "source": [
    "Compare old to new file contents."
   ]
  },
  {
   "cell_type": "code",
   "execution_count": 76,
   "metadata": {},
   "outputs": [
    {
     "name": "stdout",
     "output_type": "stream",
     "text": [
      "Original file\n",
      "       1.0  -0.00000     1    0.0052      0.00176\n",
      "       1.0  -0.00000     1    0.0104      0.00176\n",
      "       1.0  -0.00000     1    0.0156      0.00176\n",
      "       1.0  -0.00000     1    0.0208      0.00176\n",
      "       1.0  -0.00000     1    0.0260      0.00176\n",
      "       1.0  -0.00000     1    0.0312      0.00176\n",
      "       1.0  -0.00000     1    0.0365      0.00176\n",
      "       1.0  -0.00000     1    0.0417      0.00176\n",
      "       1.0  -0.00000     1    0.0469      0.00176\n",
      "       1.0  -0.00000     1    0.0521      0.00176\n",
      "       1.0  -0.00000     1    0.0573      0.00176\n"
     ]
    }
   ],
   "source": [
    "print(\"Original file\")\n",
    "with open(gdf.dat_filename, \"r\") as new_dat_file:\n",
    "    for i, line in enumerate(new_dat_file):\n",
    "        print(line.strip(\"\\n\"))\n",
    "        if i == 10:\n",
    "            break"
   ]
  },
  {
   "cell_type": "code",
   "execution_count": 77,
   "metadata": {},
   "outputs": [
    {
     "name": "stdout",
     "output_type": "stream",
     "text": [
      "New file\n",
      "    1000.0   0.00000     1    0.0052      0.00176\n",
      "    1000.0   0.00000     1    0.0104      0.00176\n",
      "    1000.0   0.00000     1    0.0156      0.00176\n",
      "    1000.0   0.00000     1    0.0208      0.00176\n",
      "    1000.0   0.00000     1    0.0260      0.00176\n",
      "    1000.0   0.00000     1    0.0312      0.00176\n",
      "    1000.0   0.00000     1    0.0365      0.00176\n",
      "    1000.0   0.00000     1    0.0417      0.00176\n",
      "    1000.0   0.00000     1    0.0469      0.00176\n",
      "    1000.0   0.00000     1    0.0521      0.00176\n",
      "    1000.0   0.00000     1    0.0573      0.00176\n"
     ]
    }
   ],
   "source": [
    "print (\"New file\")\n",
    "with open(new_dat_filename, \"r\") as new_dat_file:\n",
    "    for i, line in enumerate(new_dat_file):\n",
    "        print(line.strip(\"\\n\"))\n",
    "        if i == 10:\n",
    "            break"
   ]
  },
  {
   "cell_type": "markdown",
   "metadata": {},
   "source": [
    "```\n",
    "Old file:\n",
    "       1.0  -0.00000     1    0.0573      0.00176\n",
    "New file:\n",
    "    1000.0   0.00000     1    0.0052      0.00176\n",
    "```"
   ]
  },
  {
   "cell_type": "code",
   "execution_count": null,
   "metadata": {},
   "outputs": [],
   "source": []
  }
 ],
 "metadata": {
  "kernelspec": {
   "display_name": "dev",
   "language": "python",
   "name": "dev"
  },
  "language_info": {
   "codemirror_mode": {
    "name": "ipython",
    "version": 3
   },
   "file_extension": ".py",
   "mimetype": "text/x-python",
   "name": "python",
   "nbconvert_exporter": "python",
   "pygments_lexer": "ipython3",
   "version": "3.7.5"
  }
 },
 "nbformat": 4,
 "nbformat_minor": 2
}
